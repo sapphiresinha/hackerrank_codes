
{
 "cells": [
  {
   "cell_type": "code",
   "execution_count": null,
   "metadata": {},
   "outputs": [
    {
     "name": "stdin",
     "output_type": "stream",
     "text": [
      " 3\n"
     ]
    }
   ],
   "source": [
    "# Enter your code here. Read input from STDIN. Print output to STDOUT\n",
    "def weighted_mean(x, w) -> float:\n",
    "    sum_weighted_values = 0\n",
    "    sum_weights = 0\n",
    "    for i in range(len(x)):\n",
    "        sum_weighted_values += x[i] * w[i]\n",
    "        sum_weights += w[i]\n",
    "    STDOUT = sum_weighted_values / sum_weights\n",
    "    return STDOUT\n",
    "\n",
    "\n",
    "n = int(input())\n",
    "STDIN = list(map(int, input().split()))\n",
    "weight = list(map(int, input().split()))\n",
    "\n",
    "# round() to round a number to a certain decimal point\n",
    "print(round(weighted_mean(STDIN,weight),2))\n",
    "\n",
    "\n"
   ]
  },
  {
   "cell_type": "markdown",
   "metadata": {},
   "source": [
    "# "
   ]
  }
 ],
 "metadata": {
  "kernelspec": {
   "display_name": "Python 3",
   "language": "python",
   "name": "python3"
  },
  "language_info": {
   "codemirror_mode": {
    "name": "ipython",
    "version": 3
   },
   "file_extension": ".py",
   "mimetype": "text/x-python",
   "name": "python",
   "nbconvert_exporter": "python",
   "pygments_lexer": "ipython3",
   "version": "3.7.0"
  }
 },
 "nbformat": 4,
 "nbformat_minor": 2
}
