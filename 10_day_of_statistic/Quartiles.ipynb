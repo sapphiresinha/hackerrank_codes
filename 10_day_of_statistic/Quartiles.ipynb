{
 "cells": [
  {
   "cell_type": "markdown",
   "metadata": {},
   "source": [
    "<b>Objective:</b> In this challenge, we practice calculating quartiles.\n",
    "\n",
    "<b>Task</b> \n",
    "Given an array, <b>X</b>, of <b>n</b> integers, calculate the respective first quartile <b><i>(Q1)</i></b>, second quartile <b><i>(Q2)</i></b>, and third quartile <b><i>(Q3)</i></b>. It is guaranteed that <b><i>(Q1)</i></b>, <b><i>(Q2)</i></b>, and <b><i>(Q3)</i></b> are integers.\n",
    "\n",
    "<b>Input Format</b>\n",
    "\n",
    "The first line contains an integer,<b> n </b> , denoting the number of elements in the array.<br>\n",
    "The second line contains <b>n</b> space-separated integers describing the array's elements.\n",
    "\n",
    "<b>Output Format</b>\n",
    "\n",
    "Print 3 lines of output in the following order:\n",
    "\n",
    "The first line should be the value of <b><i>(Q1)</i></b>.<br>\n",
    "The second line should be the value of <b><i>(Q2)</i></b>.<br>\n",
    "The third line should be the value of <b><i>(Q3)</i></b>.<br>"
   ]
  },
  {
   "cell_type": "code",
   "execution_count": null,
   "metadata": {},
   "outputs": [],
   "source": []
  }
 ],
 "metadata": {
  "kernelspec": {
   "display_name": "Python 3",
   "language": "python",
   "name": "python3"
  },
  "language_info": {
   "codemirror_mode": {
    "name": "ipython",
    "version": 3
   },
   "file_extension": ".py",
   "mimetype": "text/x-python",
   "name": "python",
   "nbconvert_exporter": "python",
   "pygments_lexer": "ipython3",
   "version": "3.7.0"
  }
 },
 "nbformat": 4,
 "nbformat_minor": 2
}
