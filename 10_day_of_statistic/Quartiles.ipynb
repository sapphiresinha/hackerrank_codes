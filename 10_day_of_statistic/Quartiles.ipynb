{
 "cells": [
  {
   "cell_type": "markdown",
   "metadata": {},
   "source": [
    "<b>Objective:</b> In this challenge, we practice calculating quartiles.\n",
    "\n",
    "<b>Task</b> \n",
    "Given an array, <b>X</b>, of <b>n</b> integers, calculate the respective first quartile <b><i>(Q1)</i></b>, second quartile <b><i>(Q2)</i></b>, and third quartile <b><i>(Q3)</i></b>. It is guaranteed that <b><i>(Q1)</i></b>, <b><i>(Q2)</i></b>, and <b><i>(Q3)</i></b> are integers.\n",
    "\n",
    "<b>Input Format</b>\n",
    "\n",
    "The first line contains an integer,<b> n </b> , denoting the number of elements in the array.<br>\n",
    "The second line contains <b>n</b> space-separated integers describing the array's elements.\n",
    "\n",
    "<b>Output Format</b>\n",
    "\n",
    "Print 3 lines of output in the following order:\n",
    "\n",
    "The first line should be the value of <b><i>(Q1)</i></b>.<br>\n",
    "The second line should be the value of <b><i>(Q2)</i></b>.<br>\n",
    "The third line should be the value of <b><i>(Q3)</i></b>.<br>"
   ]
  },
  {
   "cell_type": "code",
   "execution_count": 4,
   "metadata": {},
   "outputs": [],
   "source": [
    "from ipynb.fs.full.mean_median_mode import median"
   ]
  },
  {
   "cell_type": "code",
   "execution_count": 12,
   "metadata": {},
   "outputs": [
    {
     "name": "stdin",
     "output_type": "stream",
     "text": [
      " 9\n",
      " 3 5 2 7 19 14 28 12 8\n"
     ]
    },
    {
     "name": "stdout",
     "output_type": "stream",
     "text": [
      "Q1 and Q3 :  (4.0, 16.5)\n",
      "Q2 :  8\n"
     ]
    }
   ],
   "source": [
    "# STDIN is standard input\n",
    "\n",
    "def median_core(STDIN, start_index : int, stop_index: int)-> float:\n",
    "    n = stop_index - start_index + 1\n",
    "    m = start_index + n // 2\n",
    "    if (n % 2) == 0:\n",
    "        return (STDIN[m - 1] + STDIN[m]) / 2\n",
    "    else:\n",
    "        return STDIN[m]\n",
    "\n",
    "\n",
    "def quartiles_2(STDIN) -> tuple:\n",
    "    values = sorted(STDIN)\n",
    "    length = len(STDIN)\n",
    "    q2 = median_core(values, 0, length - 1)\n",
    "    return q2\n",
    "    \n",
    "def quartiles_1_and_3(STDIN)-> tuple:\n",
    "    values = sorted(STDIN)\n",
    "    length = len(STDIN)\n",
    "    m = length // 2\n",
    "    if (length % 2) == 0:\n",
    "        q1 = median_core(values, 0, m - 1)\n",
    "        q3 = median_core(values, m , length - 1)\n",
    "    else:\n",
    "        q1 = median_core(values, 0, m - 1)\n",
    "        q3 = median_core(values, m + 1, length - 1)\n",
    "    return q1, q3\n",
    "\n",
    "\n",
    "n = int(input())\n",
    "x = list(map(int,input().split()))\n",
    "print('Q1 and Q3 : ',quartiles_1_and_3(x))\n",
    "print('Q2 : ', quartiles_2(x))"
   ]
  },
  {
   "cell_type": "code",
   "execution_count": null,
   "metadata": {},
   "outputs": [],
   "source": []
  }
 ],
 "metadata": {
  "kernelspec": {
   "display_name": "Python 3",
   "language": "python",
   "name": "python3"
  },
  "language_info": {
   "codemirror_mode": {
    "name": "ipython",
    "version": 3
   },
   "file_extension": ".py",
   "mimetype": "text/x-python",
   "name": "python",
   "nbconvert_exporter": "python",
   "pygments_lexer": "ipython3",
   "version": "3.7.0"
  }
 },
 "nbformat": 4,
 "nbformat_minor": 2
}
