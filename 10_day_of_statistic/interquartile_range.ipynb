{
 "cells": [
  {
   "cell_type": "markdown",
   "metadata": {},
   "source": [
    "<b>Objective:</b>\n",
    "In this challenge, we practice calculating the interquartile range.\n",
    "We recommend you complete the Quartiles challenge before attempting this problem.\n",
    "\n",
    "<b>Task:</b>\n",
    "The interquartile range of an array is the difference between its first <b>(Q1)</b> and third <b>(Q3)</b> quartiles \n",
    "(i.e.,<b>(Q1 - Q3)</b>).\n",
    "\n",
    "Given an array,<b>X</b>, of <b>n</b> integers and an array, <b>F</b>, representing the respective frequencies of <b>X</b>'s elements, construct a data set, <b>S</b>, where each <b>x<sub>i</sub></b> occurs at frequency <b>f<sub>i</sub></b>. Then calculate and print <b>S</b>'s interquartile range, rounded to a scale of <b>1</b> decimal place.\n",
    "\n",
    "<b>Tip:</b> Be careful to not use integer division when averaging the middle two elements for a data set with an even number of elements, and be sure to not include the median in your upper and lower data sets.\n",
    "\n",
    "<b>Input Format:</b>\n",
    "The first line contains an integer, <b>n</b>, denoting the number of elements in arrays <b>X</b> and <b>F</b>. \n",
    "The second line contains <b>n</b> space-separated integers describing the respective elements of array <b>X</b>. \n",
    "The third line contains <b>n</b> space-separated integers describing the respective elements of array <b>F</b>.\n",
    "\n",
    "<b>Output Format:</b>\n",
    "Print the interquartile range for the expanded data set on a new line. Round your answer to a scale of <b>1</b> decimal place."
   ]
  },
  {
   "cell_type": "code",
   "execution_count": 3,
   "metadata": {},
   "outputs": [
    {
     "name": "stdin",
     "output_type": "stream",
     "text": [
      " 30\n",
      " 10 40 30 50 20 10 40 30 50 20 1 2 3 4 5 6 7 8 9 10 20 10 40 30 50 20 10 40 30 50\n",
      " 1 2 3 4 5 6 7 8 9 10 1 2 3 4 5 6 7 8 9 10 10 40 30 50 20 10 40 30 50 20\n"
     ]
    },
    {
     "name": "stdout",
     "output_type": "stream",
     "text": [
      "30.0\n"
     ]
    }
   ],
   "source": [
    "# Enter your code here. Read input from STDIN. Print output to STDOUT\n",
    "# STDIN is standard input\n",
    "\n",
    "def median_core(STDIN, start_index : int, stop_index: int)-> float:\n",
    "    n = stop_index - start_index + 1\n",
    "    m = start_index + n // 2\n",
    "    if (n % 2) == 0:\n",
    "        return (STDIN[m - 1] + STDIN[m]) / 2\n",
    "    else:\n",
    "        return STDIN[m]\n",
    "\n",
    "def interquartiles_range(STDIN) -> float:\n",
    "    values = sorted(STDIN)\n",
    "    length = len(STDIN)\n",
    "    m = length // 2\n",
    "    if (length % 2) == 0:\n",
    "        q1 = median_core(values, 0, m - 1)\n",
    "        q3 = median_core(values, m , length - 1)\n",
    "    else:\n",
    "        q1 = median_core(values, 0, m - 1)\n",
    "        q3 = median_core(values, m + 1, length - 1)\n",
    "    return(q3 - q1)\n",
    "\n",
    "\n",
    "n = int(input())\n",
    "x = list(map(int,input().split()))\n",
    "f = list(map(int,input().split()))\n",
    "for i in range(n):\n",
    "    element = x[i]\n",
    "    frequency = f[i]\n",
    "    while(frequency > 1):\n",
    "        x.append(element)\n",
    "        frequency -= 1\n",
    "\n",
    "print(float(interquartiles_range(x)))\n",
    "\n"
   ]
  },
  {
   "cell_type": "markdown",
   "metadata": {},
   "source": [
    "# Compound event\n",
    "There are 3 urns labeled X, Y, and Z.\n",
    "Urn X contains 4 red balls and 3 black balls.\n",
    "Urn Y contains 5 red balls and 4 black balls.\n",
    "Urn Z contains 4 red balls and 4 black balls.\n",
    "\n",
    "One ball is drawn from each of the 3 urns.\n",
    "What is the probability that, of the 3 balls drawn, 2 are red and 1 is black?"
   ]
  },
  {
   "cell_type": "code",
   "execution_count": 5,
   "metadata": {},
   "outputs": [
    {
     "name": "stdout",
     "output_type": "stream",
     "text": [
      "17/42\n"
     ]
    }
   ],
   "source": [
    "from fractions import Fraction\n",
    "\n",
    "ux_red_count = 4\n",
    "ux_black_count = 3\n",
    "ux_count = ux_red_count + ux_black_count\n",
    "\n",
    "uy_red_count = 5\n",
    "uy_black_count = 4\n",
    "uy_count = uy_red_count + uy_black_count\n",
    "\n",
    "uz_red_count = 4\n",
    "uz_black_count = 4\n",
    "uz_count = uz_red_count + uz_black_count\n",
    "\n",
    "px_red = Fraction(ux_red_count, ux_count)\n",
    "px_black = Fraction(ux_black_count, ux_count)\n",
    "\n",
    "py_red = Fraction(uy_red_count, uy_count)\n",
    "py_black = Fraction(uy_black_count, uy_count)\n",
    "\n",
    "pz_red = Fraction(uz_red_count, uz_count)\n",
    "pz_black = Fraction(uz_black_count, uz_count)\n",
    "\n",
    "result = px_red * py_red * pz_black + \\\n",
    "         px_red * py_black * pz_red + \\\n",
    "         px_black * py_red * pz_red\n",
    "print(result)\n",
    "\n",
    "\n",
    "# Solution:\n",
    "\n",
    "# Urn X has a 4/7 probability of giving a red ball\n",
    "# Urn Y has a 5/9 probability of giving a red ball\n",
    "# Urn Z has a 1/2 probability of giving a red ball\n",
    "\n",
    "# Urn X has a 3/7 probability of giving a black ball\n",
    "# Urn Y has a 4/9 probability of giving a black ball\n",
    "# Urn Z has a 1/2 probability of giving a black ball\n",
    "\n",
    "# P(2 red, 1 black) = P(Red Red Black) + P(Red Black Red) + P(Black Red Red)\n",
    "#                   = (4/7)(5/9)(1/2) + (4/7)(4/9)(1/2) + (3/7)(5/9)(1/2)\n",
    "#                   = 20/126 + 16/126 + 15/126\n",
    "#                   = 51/126\n",
    "#                   = 17/42"
   ]
  },
  {
   "cell_type": "code",
   "execution_count": null,
   "metadata": {},
   "outputs": [],
   "source": []
  }
 ],
 "metadata": {
  "kernelspec": {
   "display_name": "Python 3",
   "language": "python",
   "name": "python3"
  },
  "language_info": {
   "codemirror_mode": {
    "name": "ipython",
    "version": 3
   },
   "file_extension": ".py",
   "mimetype": "text/x-python",
   "name": "python",
   "nbconvert_exporter": "python",
   "pygments_lexer": "ipython3",
   "version": "3.7.0"
  }
 },
 "nbformat": 4,
 "nbformat_minor": 2
}
