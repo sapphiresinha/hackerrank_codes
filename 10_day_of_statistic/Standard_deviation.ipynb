
{
 "cells": [
  {
   "cell_type": "code",
   "execution_count": 1,
   "metadata": {},
   "outputs": [
    {
     "name": "stdin",
     "output_type": "stream",
     "text": [
      " 5\n",
      " 10 20 30 40 50\n"
     ]
    },
    {
     "name": "stdout",
     "output_type": "stream",
     "text": [
      "14.142135623730951\n"
     ]
    }
   ],
   "source": [
    "# Enter your code here. Read input from STDIN. Print output to STDOUT\n",
    "def STD(value)-> float:\n",
    "    sum_sq_distance=0\n",
    "    n= len(value)\n",
    "    mean= sum(value)/n\n",
    "    for i in range(n):\n",
    "        sq_distance = (value[i] - mean) ** 2\n",
    "        sum_sq_distance+= sq_distance\n",
    "    STD= ((sum_sq_distance)/n) ** 0.5\n",
    "    return STD\n",
    "\n",
    "N= int(input())\n",
    "x= list(map(int, input().split()))\n",
    "print(STD(x))\n"
   ]
  },
  {
   "cell_type": "code",
   "execution_count": null,
   "metadata": {},
   "outputs": [],
   "source": []
  }
 ],
 "metadata": {
  "kernelspec": {
   "display_name": "Python 3",
   "language": "python",
   "name": "python3"
  },
  "language_info": {
   "codemirror_mode": {
    "name": "ipython",
    "version": 3
   },
   "file_extension": ".py",
   "mimetype": "text/x-python",
   "name": "python",
   "nbconvert_exporter": "python",
   "pygments_lexer": "ipython3",
   "version": "3.7.0"
  }
 },
 "nbformat": 4,
 "nbformat_minor": 2
}
