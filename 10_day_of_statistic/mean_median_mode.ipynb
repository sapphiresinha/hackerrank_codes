
{
 "cells": [
  {
   "cell_type": "code",
   "execution_count": 17,
   "metadata": {},
   "outputs": [
    {
     "name": "stdin",
     "output_type": "stream",
     "text": [
      " 10\n",
      " 64630 11735 14216 99233 14470 4978 73429 38120 51135 67060\n"
     ]
    },
    {
     "name": "stdout",
     "output_type": "stream",
     "text": [
      "43900.6\n",
      "4978.0\n",
      "44627.5\n"
     ]
    }
   ],
   "source": [
    "# Enter your code here. Read input from STDIN. Print output to STDOUT\n",
    "def mean(STDIN):\n",
    "    n=len(STDIN)\n",
    "    mean=sum(STDIN)/n\n",
    "    return mean\n",
    "\n",
    "def median(STDIN) -> float:\n",
    "    median = 0.0\n",
    "    n=len(STDIN)\n",
    "    copy_in = sorted(STDIN)\n",
    "    # copy_in.sort()\n",
    "    if(n % 2 == 0):\n",
    "        median = ((copy_in[n // 2 - 1]) + (copy_in[n // 2]))/ 2\n",
    "    else:\n",
    "        median =copy_in[(n) // 2]\n",
    "    return median\n",
    "\n",
    "# def median(values: STDIN) -> float:\n",
    "#     length = len(values)\n",
    "#     values = sorted(values)\n",
    "#     if length % 2 != 0:\n",
    "#         return values[length // 2]\n",
    "#     else:\n",
    "#         return (values[length // 2] + values[length // 2 - 1]) / 2\n",
    "\n",
    "def mode(STDIN):\n",
    "    mode = 0\n",
    "    size = len(STDIN)\n",
    "    count, max = 0, 0\n",
    "    copy_in = STDIN\n",
    "    copy_in.sort()\n",
    "    current = 0\n",
    "    for i in copy_in:\n",
    "        if (i == current):\n",
    "            count += 1\n",
    "        else:\n",
    "            count = 1\n",
    "            current = i\n",
    "        if (count > max):\n",
    "            max = count\n",
    "            mode = i\n",
    "    return mode\n",
    "\n",
    "size = int(input())\n",
    "STDIN = sorted(list(map(int, input().split())))\n",
    "print(mean(STDIN))\n",
    "print(median(STDIN))\n",
    "print(mode(STDIN))\n",
    "\n"
   ]
  },
  {
   "cell_type": "markdown",
   "metadata": {},
   "source": [
    "### "
   ]
  }
 ],
 "metadata": {
  "kernelspec": {
   "display_name": "Python 3",
   "language": "python",
   "name": "python3"
  },
  "language_info": {
   "codemirror_mode": {
    "name": "ipython",
    "version": 3
   },
   "file_extension": ".py",
   "mimetype": "text/x-python",
   "name": "python",
   "nbconvert_exporter": "python",
   "pygments_lexer": "ipython3",
   "version": "3.7.0"
  }
 },
 "nbformat": 4,
 "nbformat_minor": 2
}
